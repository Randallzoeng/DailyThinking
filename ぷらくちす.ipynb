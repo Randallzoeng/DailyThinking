{
 "cells": [
  {
   "cell_type": "markdown",
   "metadata": {},
   "source": [
    "[model-segmentation-with-cubist](https://www.r-bloggers.com/model-segmentation-with-cubist/)"
   ]
  },
  {
   "cell_type": "code",
   "execution_count": 29,
   "metadata": {
    "collapsed": false,
    "scrolled": true
   },
   "outputs": [
    {
     "name": "stderr",
     "output_type": "stream",
     "text": [
      "Parsed with column specification:\n",
      "cols(\n",
      "  .default = col_integer(),\n",
      "  register_time = col_datetime(format = \"\"),\n",
      "  wood_add_value = col_double(),\n",
      "  wood_reduce_value = col_double(),\n",
      "  stone_add_value = col_double(),\n",
      "  stone_reduce_value = col_double(),\n",
      "  ivory_add_value = col_double(),\n",
      "  ivory_reduce_value = col_double(),\n",
      "  meat_add_value = col_double(),\n",
      "  meat_reduce_value = col_double(),\n",
      "  magic_add_value = col_double(),\n",
      "  magic_reduce_value = col_double(),\n",
      "  avg_online_minutes = col_double(),\n",
      "  pay_price = col_double(),\n",
      "  prediction_pay_price = col_double()\n",
      ")\n",
      "See spec(...) for full column specifications.\n"
     ]
    }
   ],
   "source": [
    "library(tidyverse)\n",
    "library(Matrix)\n",
    "library(data.table)\n",
    "setwd(\"D:/Projects/BrutalAge/data/\")\n",
    "train <- read_csv(\"tap_fun_train.csv\")\n",
    "#train$cls <- as.factor(ifelse(train$pay_price==train$prediction_pay_price,'same','diff'))\n",
    "#train$cls <- as.factor(ifelse(train$pay_price==0,'free','paid'))"
   ]
  },
  {
   "cell_type": "code",
   "execution_count": 30,
   "metadata": {
    "collapsed": true
   },
   "outputs": [],
   "source": [
    "df<- train[,c(109,106:108)]\n",
    "df$wood <- train$wood_add_value + train$wood_reduce_value\n",
    "df$stone <- train$stone_add_value + train$stone_reduce_value\n",
    "df$ivory <- train$ivory_add_value + train$ivory_reduce_value\n",
    "df$meat <- train$meat_add_value + train$meat_reduce_value\n",
    "df$magic <- train$magic_add_value + train$magic_reduce_value\n",
    "df$infantry <- train$infantry_add_value + train$infantry_reduce_value + train$wound_infantry_add_value + train$wound_infantry_reduce_value\n",
    "df$cavalry <- train$cavalry_add_value + train$cavalry_reduce_value + train$wound_cavalry_add_value + train$wound_cavalry_reduce_value\n",
    "df$shaman <- train$shaman_add_value + train$shaman_reduce_value + train$wound_shaman_add_value + train$wound_shaman_reduce_value\n",
    "#acc\n",
    "df$gen_acc <- train$general_acceleration_add_value + train$general_acceleration_reduce_value\n",
    "df$bld_acc <- train$building_acceleration_add_value + train$building_acceleration_reduce_value\n",
    "df$rsh_acc <- train$reaserch_acceleration_add_value + train$reaserch_acceleration_reduce_value\n",
    "df$train_acc <- train$training_acceleration_add_value + train$training_acceleration_reduce_value\n",
    "df$treat_acc <- train$treatment_acceleraion_add_value + train$treatment_acceleration_reduce_value\n",
    "#level\n",
    "# df$bdlevel <- apply(train[,35:50],1,sum)\n",
    "# df$sclevel <- apply(train[,51:99],1,sum)\n",
    "#atk\n",
    "df$pvp <- train$pvp_battle_count\n",
    "df$pve <- train$pve_battle_count"
   ]
  },
  {
   "cell_type": "code",
   "execution_count": 5,
   "metadata": {
    "collapsed": false
   },
   "outputs": [
    {
     "data": {
      "text/html": [
       "<ol class=list-inline>\n",
       "\t<li>'df'</li>\n",
       "\t<li>'train'</li>\n",
       "</ol>\n"
      ],
      "text/latex": [
       "\\begin{enumerate*}\n",
       "\\item 'df'\n",
       "\\item 'train'\n",
       "\\end{enumerate*}\n"
      ],
      "text/markdown": [
       "1. 'df'\n",
       "2. 'train'\n",
       "\n",
       "\n"
      ],
      "text/plain": [
       "[1] \"df\"    \"train\""
      ]
     },
     "metadata": {},
     "output_type": "display_data"
    }
   ],
   "source": [
    "ls()\n",
    "# rm(list=\"train\")"
   ]
  },
  {
   "cell_type": "code",
   "execution_count": 31,
   "metadata": {
    "collapsed": false
   },
   "outputs": [],
   "source": [
    "library(caret)\n",
    "trn_id <- createDataPartition(df$prediction_pay_price,p=0.7,list=F)\n",
    "trn <- df[trn_id,]\n",
    "vld <- df[-trn_id,]"
   ]
  },
  {
   "cell_type": "code",
   "execution_count": 33,
   "metadata": {
    "collapsed": false
   },
   "outputs": [
    {
     "data": {
      "text/html": [
       "<ol class=list-inline>\n",
       "\t<li>'wood'</li>\n",
       "\t<li>'meat'</li>\n",
       "\t<li>'gen_acc'</li>\n",
       "\t<li>'stone'</li>\n",
       "</ol>\n"
      ],
      "text/latex": [
       "\\begin{enumerate*}\n",
       "\\item 'wood'\n",
       "\\item 'meat'\n",
       "\\item 'gen\\_acc'\n",
       "\\item 'stone'\n",
       "\\end{enumerate*}\n"
      ],
      "text/markdown": [
       "1. 'wood'\n",
       "2. 'meat'\n",
       "3. 'gen_acc'\n",
       "4. 'stone'\n",
       "\n",
       "\n"
      ],
      "text/plain": [
       "[1] \"wood\"    \"meat\"    \"gen_acc\" \"stone\"  "
      ]
     },
     "metadata": {},
     "output_type": "display_data"
    }
   ],
   "source": [
    "colnames(trn)[findCorrelation(cor(trn))]\n",
    "#removing high-correlation predictors\n",
    "cor_id <- findCorrelation(cor(trn))\n",
    "trn <- trn[,-cor_id]\n",
    "vld <- vld[,-cor_id]"
   ]
  },
  {
   "cell_type": "code",
   "execution_count": 37,
   "metadata": {
    "collapsed": false,
    "scrolled": false
   },
   "outputs": [
    {
     "data": {},
     "metadata": {},
     "output_type": "display_data"
    },
    {
     "data": {
      "image/png": "[encoded data removed]",
      "text/plain": [
       "plot without title"
      ]
     },
     "metadata": {},
     "output_type": "display_data"
    }
   ],
   "source": [
    "library(ggcorrplot)\n",
    "ggcorrplot(round(cor(trn),2), hc.order = TRUE, type = \"upper\", lab = TRUE,lab_size = 2.5)"
   ]
  },
  {
   "cell_type": "code",
   "execution_count": 39,
   "metadata": {
    "collapsed": true
   },
   "outputs": [],
   "source": [
    "trn <- data.frame(trn)\n",
    "trnX <- trn[,2:15]\n",
    "trnY <- trn$prediction_pay_price\n",
    "\n",
    "vld <- data.frame(vld)\n",
    "vldX <- vld[,2:15]\n",
    "vldY <- vld$prediction_pay_price"
   ]
  },
  {
   "cell_type": "markdown",
   "metadata": {},
   "source": [
    "- Linear Regression\n",
    "    - LR\n",
    "    - PLS\n",
    "    - Ridge/Lasso\n",
    "    \n",
    "- Nonlinear Regression\n",
    "    - Neural Networks\n",
    "    - MARS\n",
    "    - SVM\n",
    "    - KNN\n",
    "\n",
    "- Regression Trees\n",
    "    - CART\n",
    "    - RF\n",
    "    - GBM\n",
    "    - Cubist\n",
    "    - Ensemble"
   ]
  },
  {
   "cell_type": "code",
   "execution_count": 48,
   "metadata": {
    "collapsed": false
   },
   "outputs": [],
   "source": [
    "library(caret)\n",
    "set.seed(821)\n",
    "ctrl <- trainControl(method = \"cv\",number=5)"
   ]
  },
  {
   "cell_type": "code",
   "execution_count": 45,
   "metadata": {
    "collapsed": false,
    "scrolled": true
   },
   "outputs": [
    {
     "data": {
      "text/html": [
       "58.1268824202534"
      ],
      "text/latex": [
       "58.1268824202534"
      ],
      "text/markdown": [
       "58.1268824202534"
      ],
      "text/plain": [
       "[1] 58.12688"
      ]
     },
     "metadata": {},
     "output_type": "display_data"
    }
   ],
   "source": [
    "#Linear Regression\n",
    "set.seed(821)\n",
    "fit_lm <- train(trnX,trnY,method = \"lm\",trControl=ctrl)\n",
    "result_lm <- fit_lm$results\n",
    "pred_lm <- predict(fit_lm,newdata = vldX)\n",
    "RMSE(pred = pred_lm,obs = vldY)"
   ]
  },
  {
   "cell_type": "code",
   "execution_count": null,
   "metadata": {
    "collapsed": true
   },
   "outputs": [],
   "source": [
    "#PLS\n",
    "set.seed(821)\n",
    "fit_pls <- train(trnX,trnY,methon=\"pls\",tuneLength=20,trControl=ctrl)\n",
    "result_pls <- fit_pls$results\n",
    "pred_pls <- predict(fit_pls,newdata = vldX)\n",
    "RMSE(pred = pred_pls,obs = vldY)"
   ]
  },
  {
   "cell_type": "code",
   "execution_count": 53,
   "metadata": {
    "collapsed": false
   },
   "outputs": [
    {
     "data": {
      "text/html": [
       "<ol class=list-inline>\n",
       "\t<li>'cor_id'</li>\n",
       "\t<li>'ctrl'</li>\n",
       "\t<li>'pred_lm'</li>\n",
       "\t<li>'result_lm'</li>\n",
       "\t<li>'trn_id'</li>\n",
       "\t<li>'trnX'</li>\n",
       "\t<li>'trnY'</li>\n",
       "\t<li>'vldX'</li>\n",
       "\t<li>'vldY'</li>\n",
       "</ol>\n"
      ],
      "text/latex": [
       "\\begin{enumerate*}\n",
       "\\item 'cor\\_id'\n",
       "\\item 'ctrl'\n",
       "\\item 'pred\\_lm'\n",
       "\\item 'result\\_lm'\n",
       "\\item 'trn\\_id'\n",
       "\\item 'trnX'\n",
       "\\item 'trnY'\n",
       "\\item 'vldX'\n",
       "\\item 'vldY'\n",
       "\\end{enumerate*}\n"
      ],
      "text/markdown": [
       "1. 'cor_id'\n",
       "2. 'ctrl'\n",
       "3. 'pred_lm'\n",
       "4. 'result_lm'\n",
       "5. 'trn_id'\n",
       "6. 'trnX'\n",
       "7. 'trnY'\n",
       "8. 'vldX'\n",
       "9. 'vldY'\n",
       "\n",
       "\n"
      ],
      "text/plain": [
       "[1] \"cor_id\"    \"ctrl\"      \"pred_lm\"   \"result_lm\" \"trn_id\"    \"trnX\"     \n",
       "[7] \"trnY\"      \"vldX\"      \"vldY\"     "
      ]
     },
     "metadata": {},
     "output_type": "display_data"
    }
   ],
   "source": [
    "#lasso\n",
    "set.seed(821)\n",
    "fit_lasso <- train(trnX,trnY,methon=\"lasso\",tuneLength=10,trControl=ctrl)\n",
    "result_lasso <- fit_lasso$results\n",
    "pred_lasso <- predict(fit_lasso,newdata = vldX)\n",
    "RMSE(pred = pred_lasso,obs = vldY)"
   ]
  },
  {
   "cell_type": "code",
   "execution_count": 21,
   "metadata": {
    "collapsed": false,
    "scrolled": true
   },
   "outputs": [],
   "source": [
    "#CART\n",
    "set.seed(821)\n",
    "fit_cart <- train(trnX,trnY,method = \"rpart2\",tuneLength=10,trControl=ctrl)"
   ]
  },
  {
   "cell_type": "code",
   "execution_count": 23,
   "metadata": {
    "collapsed": false
   },
   "outputs": [
    {
     "data": {
      "text/html": [
       "<table>\n",
       "<thead><tr><th scope=col>maxdepth</th><th scope=col>RMSE</th><th scope=col>Rsquared</th><th scope=col>MAE</th><th scope=col>RMSESD</th><th scope=col>RsquaredSD</th><th scope=col>MAESD</th></tr></thead>\n",
       "<tbody>\n",
       "\t<tr><td> 1        </td><td>74.42142  </td><td>0.2532961 </td><td>2.901984  </td><td>14.09076  </td><td>0.05423433</td><td>0.2059845 </td></tr>\n",
       "\t<tr><td> 2        </td><td>67.70050  </td><td>0.3808873 </td><td>2.433663  </td><td>13.84773  </td><td>0.06026466</td><td>0.2078638 </td></tr>\n",
       "\t<tr><td> 3        </td><td>66.39776  </td><td>0.4130573 </td><td>2.302499  </td><td>15.50021  </td><td>0.07443412</td><td>0.1824580 </td></tr>\n",
       "\t<tr><td> 4        </td><td>66.44086  </td><td>0.4208849 </td><td>2.181037  </td><td>16.21216  </td><td>0.07946782</td><td>0.1717599 </td></tr>\n",
       "\t<tr><td> 5        </td><td>65.63297  </td><td>0.4421717 </td><td>2.161266  </td><td>16.35988  </td><td>0.07436567</td><td>0.1597150 </td></tr>\n",
       "\t<tr><td> 6        </td><td>65.90391  </td><td>0.4412617 </td><td>2.086915  </td><td>16.21200  </td><td>0.07844006</td><td>0.1445043 </td></tr>\n",
       "\t<tr><td> 7        </td><td>65.48797  </td><td>0.4495153 </td><td>1.926703  </td><td>16.55203  </td><td>0.08253218</td><td>0.1484981 </td></tr>\n",
       "\t<tr><td> 8        </td><td>65.48797  </td><td>0.4495153 </td><td>1.926703  </td><td>16.55203  </td><td>0.08253218</td><td>0.1484981 </td></tr>\n",
       "\t<tr><td>10        </td><td>65.48797  </td><td>0.4495153 </td><td>1.926703  </td><td>16.55203  </td><td>0.08253218</td><td>0.1484981 </td></tr>\n",
       "\t<tr><td>11        </td><td>65.48797  </td><td>0.4495153 </td><td>1.926703  </td><td>16.55203  </td><td>0.08253218</td><td>0.1484981 </td></tr>\n",
       "</tbody>\n",
       "</table>\n"
      ],
      "text/latex": [
       "\\begin{tabular}{r|lllllll}\n",
       " maxdepth & RMSE & Rsquared & MAE & RMSESD & RsquaredSD & MAESD\\\\\n",
       "\\hline\n",
       "\t  1         & 74.42142   & 0.2532961  & 2.901984   & 14.09076   & 0.05423433 & 0.2059845 \\\\\n",
       "\t  2         & 67.70050   & 0.3808873  & 2.433663   & 13.84773   & 0.06026466 & 0.2078638 \\\\\n",
       "\t  3         & 66.39776   & 0.4130573  & 2.302499   & 15.50021   & 0.07443412 & 0.1824580 \\\\\n",
       "\t  4         & 66.44086   & 0.4208849  & 2.181037   & 16.21216   & 0.07946782 & 0.1717599 \\\\\n",
       "\t  5         & 65.63297   & 0.4421717  & 2.161266   & 16.35988   & 0.07436567 & 0.1597150 \\\\\n",
       "\t  6         & 65.90391   & 0.4412617  & 2.086915   & 16.21200   & 0.07844006 & 0.1445043 \\\\\n",
       "\t  7         & 65.48797   & 0.4495153  & 1.926703   & 16.55203   & 0.08253218 & 0.1484981 \\\\\n",
       "\t  8         & 65.48797   & 0.4495153  & 1.926703   & 16.55203   & 0.08253218 & 0.1484981 \\\\\n",
       "\t 10         & 65.48797   & 0.4495153  & 1.926703   & 16.55203   & 0.08253218 & 0.1484981 \\\\\n",
       "\t 11         & 65.48797   & 0.4495153  & 1.926703   & 16.55203   & 0.08253218 & 0.1484981 \\\\\n",
       "\\end{tabular}\n"
      ],
      "text/markdown": [
       "\n",
       "maxdepth | RMSE | Rsquared | MAE | RMSESD | RsquaredSD | MAESD | \n",
       "|---|---|---|---|---|---|---|---|---|---|\n",
       "|  1         | 74.42142   | 0.2532961  | 2.901984   | 14.09076   | 0.05423433 | 0.2059845  | \n",
       "|  2         | 67.70050   | 0.3808873  | 2.433663   | 13.84773   | 0.06026466 | 0.2078638  | \n",
       "|  3         | 66.39776   | 0.4130573  | 2.302499   | 15.50021   | 0.07443412 | 0.1824580  | \n",
       "|  4         | 66.44086   | 0.4208849  | 2.181037   | 16.21216   | 0.07946782 | 0.1717599  | \n",
       "|  5         | 65.63297   | 0.4421717  | 2.161266   | 16.35988   | 0.07436567 | 0.1597150  | \n",
       "|  6         | 65.90391   | 0.4412617  | 2.086915   | 16.21200   | 0.07844006 | 0.1445043  | \n",
       "|  7         | 65.48797   | 0.4495153  | 1.926703   | 16.55203   | 0.08253218 | 0.1484981  | \n",
       "|  8         | 65.48797   | 0.4495153  | 1.926703   | 16.55203   | 0.08253218 | 0.1484981  | \n",
       "| 10         | 65.48797   | 0.4495153  | 1.926703   | 16.55203   | 0.08253218 | 0.1484981  | \n",
       "| 11         | 65.48797   | 0.4495153  | 1.926703   | 16.55203   | 0.08253218 | 0.1484981  | \n",
       "\n",
       "\n"
      ],
      "text/plain": [
       "   maxdepth RMSE     Rsquared  MAE      RMSESD   RsquaredSD MAESD    \n",
       "1   1       74.42142 0.2532961 2.901984 14.09076 0.05423433 0.2059845\n",
       "2   2       67.70050 0.3808873 2.433663 13.84773 0.06026466 0.2078638\n",
       "3   3       66.39776 0.4130573 2.302499 15.50021 0.07443412 0.1824580\n",
       "4   4       66.44086 0.4208849 2.181037 16.21216 0.07946782 0.1717599\n",
       "5   5       65.63297 0.4421717 2.161266 16.35988 0.07436567 0.1597150\n",
       "6   6       65.90391 0.4412617 2.086915 16.21200 0.07844006 0.1445043\n",
       "7   7       65.48797 0.4495153 1.926703 16.55203 0.08253218 0.1484981\n",
       "8   8       65.48797 0.4495153 1.926703 16.55203 0.08253218 0.1484981\n",
       "9  10       65.48797 0.4495153 1.926703 16.55203 0.08253218 0.1484981\n",
       "10 11       65.48797 0.4495153 1.926703 16.55203 0.08253218 0.1484981"
      ]
     },
     "metadata": {},
     "output_type": "display_data"
    }
   ],
   "source": [
    "results_cart <- fit_cart$results\n",
    "tune_cart <- fit_cart$bestTune\n",
    "pred_cart <- "
   ]
  },
  {
   "cell_type": "markdown",
   "metadata": {
    "collapsed": true
   },
   "source": [
    "```r\n",
    "#RF\n",
    "set.seed(821)\n",
    "fit_rf <- train(trn[,2:9],trn$prediction_pay_price,method = \"rf\",tuneLength=10,trControl=ctrl,importance=T)\n",
    "```\n",
    "`cannot allocate vector of size 6.8 Gb,will try h2o later`\n"
   ]
  },
  {
   "cell_type": "code",
   "execution_count": null,
   "metadata": {
    "collapsed": true
   },
   "outputs": [],
   "source": [
    "grid_gbm <- expand.grid(interaction.depth=seq(1,7,by=2),\n",
    "                    n.trees=seq(100,1000,by=50),\n",
    "                       shrinkage=c(0.01,0.1),\n",
    "                       n.minobsinnode=c(0,1))\n",
    "set.seed(529)\n",
    "fit_gbm <- train(trnX,trnY,method=\"gbm\",verbose=F,\n",
    "                tuneGrid=grid_gbm,trControl=ctrl)\n",
    "plot(fit_gbm)"
   ]
  },
  {
   "cell_type": "code",
   "execution_count": null,
   "metadata": {
    "collapsed": true
   },
   "outputs": [],
   "source": [
    "grid_cubist <- expand.grid(committees=c(1:10,20,50,75,100),\n",
    "                       neighbors=c(0,1,5,9))\n",
    "set.seed(529)\n",
    "fit_cubist <- train(trnX,trnY,method=\"cubist\",verbose=F,\n",
    "                   tuneGrid=grid_cubist,trControl=ctrl)\n",
    "plot(fit_cubist)"
   ]
  },
  {
   "cell_type": "code",
   "execution_count": null,
   "metadata": {
    "collapsed": true
   },
   "outputs": [],
   "source": [
    "#mars\n",
    "grid_mars <- expand.grid(.degree=1:2,.nprune=2:38)\n",
    "set.seed(100)\n",
    "fit_mars <- train(solTrainXtrans,solTrainY,\n",
    "                 method=\"earth\",tuneGrid=grid_mars,trControl=trainControl(method=\"cv\"))\n",
    "fit_mars"
   ]
  },
  {
   "cell_type": "code",
   "execution_count": null,
   "metadata": {
    "collapsed": true
   },
   "outputs": [],
   "source": [
    "#SVM\n",
    "library(kernlab)\n",
    "fit_svm <- ksvm(x = as.matrix(solTrainXtrans), y = solTrainY, kernel =\"rbfdot\", \n",
    "                kpar=\"automatic\",C = 1, epsilon = 0.1)\n",
    "fit_svm"
   ]
  }
 ],
 "metadata": {
  "anaconda-cloud": {},
  "kernelspec": {
   "display_name": "R",
   "language": "R",
   "name": "ir"
  },
  "language_info": {
   "codemirror_mode": "r",
   "file_extension": ".r",
   "mimetype": "text/x-r-source",
   "name": "R",
   "pygments_lexer": "r",
   "version": "3.5.1"
  },
  "latex_envs": {
   "LaTeX_envs_menu_present": true,
   "autoclose": false,
   "autocomplete": true,
   "bibliofile": "biblio.bib",
   "cite_by": "apalike",
   "current_citInitial": 1,
   "eqLabelWithNumbers": true,
   "eqNumInitial": 1,
   "hotkeys": {
    "equation": "Ctrl-E",
    "itemize": "Ctrl-I"
   },
   "labels_anchors": false,
   "latex_user_defs": false,
   "report_style_numbering": false,
   "user_envs_cfg": false
  },
  "toc": {
   "base_numbering": 1,
   "nav_menu": {},
   "number_sections": true,
   "sideBar": true,
   "skip_h1_title": false,
   "title_cell": "Table of Contents",
   "title_sidebar": "Contents",
   "toc_cell": false,
   "toc_position": {},
   "toc_section_display": true,
   "toc_window_display": false
  }
 },
 "nbformat": 4,
 "nbformat_minor": 1
}
