{
 "cells": [
  {
   "cell_type": "code",
   "execution_count": null,
   "metadata": {},
   "outputs": [],
   "source": [
    "import requests\n",
    "import pandas as pd\n",
    "df = pd.read_csv(r'C:\\Users\\45955\\Desktop\\geo.csv')\n",
    "longitude = [] \n",
    "latitude = []\n",
    "address = []\n",
    "count = 1\n",
    "for i in df['Add']:\n",
    "    url = 'http://api.map.baidu.com/geocoder?key=f247cdb592eb43ebac6ccd27f796e2d2&output=json&address=' + str(i)\n",
    "    response = requests.get(url)\n",
    "    answer = response.json()\n",
    "    try:\n",
    "        lon = float(answer['result']['location']['lng'])\n",
    "        lat = float(answer['result']['location']['lat'])\n",
    "    except:\n",
    "        lon = None\n",
    "        lat = None\n",
    "    address.append(i)\n",
    "    longitude.append(lon)\n",
    "    latitude.append(lat)\n",
    "    print('Geting %d.....' %count)\n",
    "    count += 1\n",
    "result = pd.DataFrame(index=range(len(address)))\n",
    "result['地址'] = address\n",
    "result['经度'] = longitude\n",
    "result['纬度'] = latitude\n"
   ]
  }
 ],
 "metadata": {
  "kernelspec": {
   "display_name": "Python 3",
   "language": "python",
   "name": "python3"
  },
  "language_info": {
   "codemirror_mode": {
    "name": "ipython",
    "version": 3
   },
   "file_extension": ".py",
   "mimetype": "text/x-python",
   "name": "python",
   "nbconvert_exporter": "python",
   "pygments_lexer": "ipython3",
   "version": "3.6.1"
  },
  "toc": {
   "nav_menu": {},
   "number_sections": true,
   "sideBar": true,
   "skip_h1_title": false,
   "toc_cell": false,
   "toc_position": {},
   "toc_section_display": "block",
   "toc_window_display": false
  }
 },
 "nbformat": 4,
 "nbformat_minor": 2
}
